{
 "cells": [
  {
   "cell_type": "code",
   "execution_count": 2,
   "metadata": {},
   "outputs": [
    {
     "name": "stdout",
     "output_type": "stream",
     "text": [
      "2^n est strictement supérieur à 10^9\n"
     ]
    }
   ],
   "source": [
    "# Exo 1.\n",
    "# En python l'opérateur puissance est \"**\"\n",
    "\n",
    "n = 32\n",
    "# ----------------------------------------------------\n",
    "if (2**n > 10**9):\n",
    "    print(\"2^n est strictement supérieur à 10^9\")\n",
    "else :\n",
    "    print(\"2^n est inférieur ou égal à 10^9\")"
   ]
  },
  {
   "cell_type": "code",
   "execution_count": 8,
   "metadata": {},
   "outputs": [
    {
     "name": "stdout",
     "output_type": "stream",
     "text": [
      "'a' vaut désormais 4\n",
      "'b' vaut désormais 6\n"
     ]
    }
   ],
   "source": [
    "# Exo 2.\n",
    "a = 6\n",
    "b = 4\n",
    "# ----------------------------------------------------\n",
    "if a > b :\n",
    "    c = a\n",
    "    a = b\n",
    "    b = c\n",
    "    print(\"'a' vaut désormais\", a)\n",
    "    print(\"'b' vaut désormais\", b)"
   ]
  },
  {
   "cell_type": "code",
   "execution_count": 9,
   "metadata": {},
   "outputs": [
    {
     "name": "stdout",
     "output_type": "stream",
     "text": [
      "\n",
      "le nombre de caractères dans '' est : 0\n"
     ]
    }
   ],
   "source": [
    "# Exo 3.\n",
    "\n",
    "mot = input()\n",
    "# -------------------------------------\n",
    "s = mot\n",
    "i = 0\n",
    "while s != \"\" :\n",
    "    s = s[:-1]\n",
    "    i += 1\n",
    "print(\"le nombre de caractères dans '\",mot,\"' est : \", i, sep = \"\")"
   ]
  },
  {
   "cell_type": "code",
   "execution_count": 10,
   "metadata": {},
   "outputs": [
    {
     "name": "stdout",
     "output_type": "stream",
     "text": [
      "27 * 1 = 27\n",
      "27 * 2 = 54\n",
      "27 * 3 = 81\n",
      "27 * 4 = 108\n",
      "27 * 5 = 135\n",
      "27 * 6 = 162\n",
      "27 * 7 = 189\n",
      "27 * 8 = 216\n",
      "27 * 9 = 243\n",
      "27 * 10 = 270\n"
     ]
    }
   ],
   "source": [
    "# Exo 4.\n",
    "for i in range(1,11):\n",
    "    print(\"27 *\", i, \"=\", 27 * i)"
   ]
  },
  {
   "cell_type": "code",
   "execution_count": 11,
   "metadata": {},
   "outputs": [
    {
     "name": "stdout",
     "output_type": "stream",
     "text": [
      "Fibo 0 : 0\n",
      "Fibo 1 : 1\n",
      "Fibo 2 : 1\n",
      "Fibo 3 : 2\n",
      "Fibo 4 : 3 (*)\n",
      "Fibo 5 : 5\n",
      "Fibo 6 : 8\n",
      "Fibo 7 : 13\n",
      "Fibo 8 : 21 (*)\n",
      "Fibo 9 : 34\n",
      "Fibo 10 : 55\n",
      "Fibo 11 : 89\n",
      "Fibo 12 : 144 (*)\n",
      "Fibo 13 : 233\n",
      "Fibo 14 : 377\n",
      "Fibo 15 : 610\n",
      "Fibo 16 : 987 (*)\n",
      "Fibo 17 : 1597\n",
      "Fibo 18 : 2584\n",
      "Fibo 19 : 4181\n"
     ]
    }
   ],
   "source": [
    "# Exo 5.\n",
    "u = 0\n",
    "v = 1\n",
    "# ----------------------------------\n",
    "print(\"Fibo 0 :\", u)\n",
    "print(\"Fibo 1 :\", v)\n",
    "for i in range(18):\n",
    "    c = u + v\n",
    "    u = v\n",
    "    v = c\n",
    "    if ((c % 3) == 0):\n",
    "        print(\"Fibo\",i+2,\":\",c,\"(*)\")\n",
    "    else:\n",
    "        print(\"Fibo\",i+2,\":\",c)"
   ]
  },
  {
   "cell_type": "code",
   "execution_count": 12,
   "metadata": {},
   "outputs": [
    {
     "name": "stdout",
     "output_type": "stream",
     "text": [
      "Entrer un nombre de secondes :245\n",
      "245 secondes correspond a 0 annees, 0 jours, 0 heures, 4 minutes et 5 secondes\n"
     ]
    }
   ],
   "source": [
    "# Exo 6.\n",
    "\n",
    "n = int(input(\"Entrer un nombre de secondes :\")) # les valeurs saisies avec \"input\" sont considérées de type \"str\"\n",
    "# -----------------------------------------\n",
    "\n",
    "save = n\n",
    "nb_annees = n // (365 * 24 * 3600)\n",
    "n = n - nb_annees * (365 * 24 * 3600)\n",
    "nb_jours = n // (24 * 3600)\n",
    "n = n - nb_jours * (24 * 3600)\n",
    "nb_heures = n // 3600\n",
    "n = n - nb_heures * 3600\n",
    "nb_minutes = n // 60\n",
    "nb_secondes = n - nb_minutes * 60\n",
    "\n",
    "\n",
    "print(save, \"secondes correspond a\", nb_annees,\"annees,\", nb_jours, \"jours,\", nb_heures, \"heures,\",\n",
    "      nb_minutes, \"minutes et\", nb_secondes, \"secondes\")"
   ]
  },
  {
   "cell_type": "code",
   "execution_count": null,
   "metadata": {
    "collapsed": true
   },
   "outputs": [],
   "source": []
  },
  {
   "cell_type": "code",
   "execution_count": null,
   "metadata": {
    "collapsed": true
   },
   "outputs": [],
   "source": []
  },
  {
   "cell_type": "code",
   "execution_count": null,
   "metadata": {
    "collapsed": true
   },
   "outputs": [],
   "source": []
  },
  {
   "cell_type": "code",
   "execution_count": null,
   "metadata": {
    "collapsed": true
   },
   "outputs": [],
   "source": []
  }
 ],
 "metadata": {
  "kernelspec": {
   "display_name": "Python 3",
   "language": "python",
   "name": "python3"
  },
  "language_info": {
   "codemirror_mode": {
    "name": "ipython",
    "version": 3
   },
   "file_extension": ".py",
   "mimetype": "text/x-python",
   "name": "python",
   "nbconvert_exporter": "python",
   "pygments_lexer": "ipython3",
   "version": "3.6.2"
  }
 },
 "nbformat": 4,
 "nbformat_minor": 2
}
