{
 "cells": [
  {
   "cell_type": "markdown",
   "metadata": {},
   "source": [
    "# Les bases de Python - 1"
   ]
  },
  {
   "cell_type": "markdown",
   "metadata": {},
   "source": [
    "Les 2 notebook \"Les base de Python\" 1 et 2 reprennent les fondamentaux de la programmation en Python. Ils sont accessibles aux personnes souhaitant s'initier à la programmation. Le contenu de ces documents est fortement inspiré du livre *Apprendre à programmer avec Python 3* par Gérard Swinnen, aussi ce livre (en [téléchargement libre](https://inforef.be/swi/python.htm) sur internet) comporte de nombreux approfondissements concernant les informations qui suivent."
   ]
  },
  {
   "cell_type": "markdown",
   "metadata": {},
   "source": [
    "## Introduction au Jupyter notebook"
   ]
  },
  {
   "cell_type": "markdown",
   "metadata": {},
   "source": [
    "Jupyter notebook est un environnement de développement pour coder dans le langage Python. Nous l'avons choisi pour son ergonomie et sa simplicité d'utilisation. Avec Jupyter, le code s'organise en cellules. Voici quelques commandes à connaître :\n",
    "\n",
    "* *Ctrl + Entrée* : exécuter le contenu d'une cellule\n",
    "* *Shift + Entrée* : exécuter le contenu d'une cellule et sélectionner la cellule suivante\n",
    "\n",
    "Il existe de nombreux autres raccourcis clavier, qui sont à connaître pour pouvoir utiliser Jupyter de manière optimale -> voir l'icône représentant un clavier dans la barre de menu ci-dessus."
   ]
  },
  {
   "cell_type": "markdown",
   "metadata": {},
   "source": [
    "Lorsqu'on exécute une cellule, Jupyter affiche souvent un résultat. Le résultat afficher est l'output de la dernière fonction appelée dans la cellule.\n",
    "\n",
    "Par exemple :"
   ]
  },
  {
   "cell_type": "code",
   "execution_count": 2,
   "metadata": {},
   "outputs": [
    {
     "data": {
      "text/plain": [
       "6"
      ]
     },
     "execution_count": 2,
     "metadata": {},
     "output_type": "execute_result"
    }
   ],
   "source": [
    "5 + 7\n",
    "4 + 2"
   ]
  },
  {
   "cell_type": "markdown",
   "metadata": {},
   "source": [
    "Le résultat de \"5 + 7\" n'est pas affiché car ce n'est pas la dernière opération réalisée à l'intérieur de la cellule."
   ]
  },
  {
   "cell_type": "markdown",
   "metadata": {},
   "source": [
    "Les notebook Python sont reconnaissables à leur extension : « nom_du_notebook.ipynb »"
   ]
  },
  {
   "cell_type": "markdown",
   "metadata": {},
   "source": [
    "### Liens concernant Jupyter :\n",
    "* La [documentation officielle](https://jupyter.readthedocs.io/en/latest/)\n",
    "* [Guide](http://dichotomies.fr/2015/informatique/info1/cours/debuter-avec-les-notebooks/) pour débuter avec les notebook"
   ]
  },
  {
   "cell_type": "markdown",
   "metadata": {},
   "source": [
    "## Documentation Python"
   ]
  },
  {
   "cell_type": "markdown",
   "metadata": {},
   "source": [
    "* [Documentation officielle Python 3](https://docs.python.org/3/)\n",
    "* [Cours d'Alexandre Gramfort](http://perso.telecom-paristech.fr/~gramfort/liesse_python/)\n",
    "* [Site internet de Xavier Dupré](http://www.xavierdupre.fr)\n",
    "* [Cours de Ricco Rakotamalala](https://eric.univ-lyon2.fr/~ricco/cours/cours_programmation_python.html#bigdata)\n",
    "* [Coding style Python](https://www.python.org/dev/peps/pep-0008/) pour connaitre les usages (esthétiques) classiques en matière de code Python."
   ]
  },
  {
   "cell_type": "markdown",
   "metadata": {},
   "source": [
    "## Commenter son code"
   ]
  },
  {
   "cell_type": "markdown",
   "metadata": {},
   "source": [
    "Si le symbole \"#\" apparaît dans une cellule, alors tous les éléments qui suivent \"#\" sur la ligne sont considérés comme des commentaires, c'est à dire qu'ils sont ignorés par l'interpréteur de code"
   ]
  },
  {
   "cell_type": "code",
   "execution_count": 3,
   "metadata": {},
   "outputs": [
    {
     "data": {
      "text/plain": [
       "12"
      ]
     },
     "execution_count": 3,
     "metadata": {},
     "output_type": "execute_result"
    }
   ],
   "source": [
    "5 + 7 # ceci est un commentaire et n'a aucune influence sur l'exécution de la cellule"
   ]
  },
  {
   "cell_type": "markdown",
   "metadata": {},
   "source": [
    "## Calculer avec Python"
   ]
  },
  {
   "cell_type": "markdown",
   "metadata": {},
   "source": [
    "Les opérateurs arithmétiques pour l'addition, la soustraction, la multiplication et la division sont respectivement \"`+`\", \"`-`\", \"`*`\" et \"`/`\"."
   ]
  },
  {
   "cell_type": "code",
   "execution_count": 4,
   "metadata": {},
   "outputs": [
    {
     "data": {
      "text/plain": [
       "8"
      ]
     },
     "execution_count": 4,
     "metadata": {},
     "output_type": "execute_result"
    }
   ],
   "source": [
    "5+3"
   ]
  },
  {
   "cell_type": "code",
   "execution_count": 5,
   "metadata": {},
   "outputs": [
    {
     "data": {
      "text/plain": [
       "-7"
      ]
     },
     "execution_count": 5,
     "metadata": {},
     "output_type": "execute_result"
    }
   ],
   "source": [
    "2 - 9 # les espaces sont optionnels"
   ]
  },
  {
   "cell_type": "markdown",
   "metadata": {},
   "source": [
    "Comme c'est le cas en mathématique, les opération \"`*`\" et \"`/`\" sont prioritaires devant \"`+`\" et \"`-`\" :"
   ]
  },
  {
   "cell_type": "code",
   "execution_count": 6,
   "metadata": {},
   "outputs": [
    {
     "data": {
      "text/plain": [
       "19"
      ]
     },
     "execution_count": 6,
     "metadata": {},
     "output_type": "execute_result"
    }
   ],
   "source": [
    "7 + 3 * 4"
   ]
  },
  {
   "cell_type": "code",
   "execution_count": 7,
   "metadata": {},
   "outputs": [
    {
     "data": {
      "text/plain": [
       "40"
      ]
     },
     "execution_count": 7,
     "metadata": {},
     "output_type": "execute_result"
    }
   ],
   "source": [
    "(7 + 3) * 4 # les parenthèses ont la fonction attendue"
   ]
  },
  {
   "cell_type": "code",
   "execution_count": 8,
   "metadata": {},
   "outputs": [
    {
     "data": {
      "text/plain": [
       "6.666666666666667"
      ]
     },
     "execution_count": 8,
     "metadata": {},
     "output_type": "execute_result"
    }
   ],
   "source": [
    "20 / 3"
   ]
  },
  {
   "cell_type": "markdown",
   "metadata": {},
   "source": [
    "Sous Python 3, l'opérateur \"//\" permet d'effectuer une division entière : il retourne le quotient de la division entière. L'opérateur \"`%`\" retourne le reste de la division entière (on l'appelle l'opérateur \"modulo\")"
   ]
  },
  {
   "cell_type": "code",
   "execution_count": 9,
   "metadata": {},
   "outputs": [
    {
     "data": {
      "text/plain": [
       "1"
      ]
     },
     "execution_count": 9,
     "metadata": {},
     "output_type": "execute_result"
    }
   ],
   "source": [
    "5 // 3"
   ]
  },
  {
   "cell_type": "code",
   "execution_count": 10,
   "metadata": {},
   "outputs": [
    {
     "data": {
      "text/plain": [
       "2.0"
      ]
     },
     "execution_count": 10,
     "metadata": {},
     "output_type": "execute_result"
    }
   ],
   "source": [
    "6.1 // 2.5 # cela a encore un sens avec des nombres réels"
   ]
  },
  {
   "cell_type": "code",
   "execution_count": 11,
   "metadata": {},
   "outputs": [
    {
     "data": {
      "text/plain": [
       "2"
      ]
     },
     "execution_count": 11,
     "metadata": {},
     "output_type": "execute_result"
    }
   ],
   "source": [
    "5 % 3"
   ]
  },
  {
   "cell_type": "markdown",
   "metadata": {},
   "source": [
    "Remarque : comme dans tous les langages de programmation, la convention anglophone est adaptée et le séparateur décimal est le point (et non la virgule)"
   ]
  },
  {
   "cell_type": "code",
   "execution_count": 12,
   "metadata": {},
   "outputs": [
    {
     "data": {
      "text/plain": [
       "6.833333333333333"
      ]
     },
     "execution_count": 12,
     "metadata": {},
     "output_type": "execute_result"
    }
   ],
   "source": [
    "20.5 / 3"
   ]
  },
  {
   "cell_type": "code",
   "execution_count": 1,
   "metadata": {},
   "outputs": [
    {
     "data": {
      "text/plain": [
       "(8, 1.4)"
      ]
     },
     "execution_count": 1,
     "metadata": {},
     "output_type": "execute_result"
    }
   ],
   "source": [
    "8,7 / 5 # la virgule n'est pas perçu comme un indicateur du décimal"
   ]
  },
  {
   "cell_type": "markdown",
   "metadata": {},
   "source": [
    "## Les variables"
   ]
  },
  {
   "cell_type": "markdown",
   "metadata": {},
   "source": [
    "### Créer une variable"
   ]
  },
  {
   "cell_type": "markdown",
   "metadata": {},
   "source": [
    "Pour définir une variable en Python, et lui affecter une valeur, on utilise la synthaxe *\"nom_variable = valeur\"*"
   ]
  },
  {
   "cell_type": "code",
   "execution_count": 4,
   "metadata": {
    "collapsed": true
   },
   "outputs": [],
   "source": [
    "n = 7 # définir la variable n et lui donner la valeur 7"
   ]
  },
  {
   "cell_type": "code",
   "execution_count": 5,
   "metadata": {
    "collapsed": true
   },
   "outputs": [],
   "source": [
    "msg = \"Quoi de neuf ?\" # affecter la valeur \"Quoi de neuf ?\" à msg"
   ]
  },
  {
   "cell_type": "code",
   "execution_count": 6,
   "metadata": {
    "collapsed": true
   },
   "outputs": [],
   "source": [
    "pi = 3.14159 # assigner la valeur 3.14159 à la variable pi"
   ]
  },
  {
   "cell_type": "code",
   "execution_count": 7,
   "metadata": {
    "collapsed": true
   },
   "outputs": [],
   "source": [
    "s = (5 < 3) # créer la variable s et y stocker l'information : oui ou non, est ce que 5 < 3 ?"
   ]
  },
  {
   "cell_type": "markdown",
   "metadata": {},
   "source": [
    "### Afficher une variable"
   ]
  },
  {
   "cell_type": "markdown",
   "metadata": {},
   "source": [
    "Nous disposons désormais des trois variables **n**, **msg** et **pi**.\n",
    "Pour afficher leur valeur à l’écran, il existe deux possibilités. La première consiste à entrer au clavier le nom de la variable, puis à éxécuter la cellule. Python affiche alors en sortie la valeur correspondante :"
   ]
  },
  {
   "cell_type": "code",
   "execution_count": 8,
   "metadata": {},
   "outputs": [
    {
     "data": {
      "text/plain": [
       "7"
      ]
     },
     "execution_count": 8,
     "metadata": {},
     "output_type": "execute_result"
    }
   ],
   "source": [
    "n"
   ]
  },
  {
   "cell_type": "code",
   "execution_count": 9,
   "metadata": {},
   "outputs": [
    {
     "data": {
      "text/plain": [
       "'Quoi de neuf ?'"
      ]
     },
     "execution_count": 9,
     "metadata": {},
     "output_type": "execute_result"
    }
   ],
   "source": [
    "msg"
   ]
  },
  {
   "cell_type": "code",
   "execution_count": 10,
   "metadata": {},
   "outputs": [
    {
     "data": {
      "text/plain": [
       "False"
      ]
     },
     "execution_count": 10,
     "metadata": {},
     "output_type": "execute_result"
    }
   ],
   "source": [
    "s"
   ]
  },
  {
   "cell_type": "markdown",
   "metadata": {},
   "source": [
    "Il s’agit cependant là d’une fonctionnalité secondaire de l’interpréteur, qui est destinée à vous faciliter la vie lorsque vous faites de simples exercices à la ligne de commande. À l’intérieur d’un programme, vous utiliserez toujours la fonction print() :"
   ]
  },
  {
   "cell_type": "code",
   "execution_count": 11,
   "metadata": {},
   "outputs": [
    {
     "name": "stdout",
     "output_type": "stream",
     "text": [
      "7\n"
     ]
    }
   ],
   "source": [
    "print(n)"
   ]
  },
  {
   "cell_type": "code",
   "execution_count": 12,
   "metadata": {},
   "outputs": [
    {
     "name": "stdout",
     "output_type": "stream",
     "text": [
      "Quoi de neuf ?\n"
     ]
    }
   ],
   "source": [
    "print(msg)"
   ]
  },
  {
   "cell_type": "code",
   "execution_count": 13,
   "metadata": {},
   "outputs": [
    {
     "name": "stdout",
     "output_type": "stream",
     "text": [
      "False\n"
     ]
    }
   ],
   "source": [
    "print(s)"
   ]
  },
  {
   "cell_type": "markdown",
   "metadata": {},
   "source": [
    "### Autres opérations"
   ]
  },
  {
   "cell_type": "markdown",
   "metadata": {
    "collapsed": true
   },
   "source": [
    "La commande \"del\" permet de supprimer une ou plusieurs variables (il faut alors séparer chaque variable par une virgule) :"
   ]
  },
  {
   "cell_type": "code",
   "execution_count": 14,
   "metadata": {
    "collapsed": true
   },
   "outputs": [],
   "source": [
    "del pi, s"
   ]
  },
  {
   "cell_type": "code",
   "execution_count": 15,
   "metadata": {},
   "outputs": [
    {
     "ename": "NameError",
     "evalue": "name 'pi' is not defined",
     "output_type": "error",
     "traceback": [
      "\u001b[0;31m---------------------------------------------------------------------------\u001b[0m",
      "\u001b[0;31mNameError\u001b[0m                                 Traceback (most recent call last)",
      "\u001b[0;32m<ipython-input-15-08fa7f4cb99c>\u001b[0m in \u001b[0;36m<module>\u001b[0;34m()\u001b[0m\n\u001b[0;32m----> 1\u001b[0;31m \u001b[0mprint\u001b[0m\u001b[0;34m(\u001b[0m\u001b[0mpi\u001b[0m\u001b[0;34m)\u001b[0m\u001b[0;34m\u001b[0m\u001b[0m\n\u001b[0m\u001b[1;32m      2\u001b[0m \u001b[0mprint\u001b[0m\u001b[0;34m(\u001b[0m\u001b[0ms\u001b[0m\u001b[0;34m)\u001b[0m\u001b[0;34m\u001b[0m\u001b[0m\n",
      "\u001b[0;31mNameError\u001b[0m: name 'pi' is not defined"
     ]
    }
   ],
   "source": [
    "print(pi)\n",
    "print(s)"
   ]
  },
  {
   "cell_type": "markdown",
   "metadata": {},
   "source": [
    "On peut aussi définir plusieurs variables simulatément, en utilisant la virgule :"
   ]
  },
  {
   "cell_type": "code",
   "execution_count": 16,
   "metadata": {
    "collapsed": true
   },
   "outputs": [],
   "source": [
    "pi, s = 3.14159, (5 < 3)"
   ]
  },
  {
   "cell_type": "markdown",
   "metadata": {},
   "source": [
    "Enfin, pour affecter une nouvelle valeur à une variable, il suffit de redéfinir la variable avec la nouvelle valeur. Alors, l'ancienne valeur est remplacée par la nouvelle :"
   ]
  },
  {
   "cell_type": "code",
   "execution_count": 17,
   "metadata": {},
   "outputs": [
    {
     "name": "stdout",
     "output_type": "stream",
     "text": [
      "je suis une nouvelle valeur\n"
     ]
    }
   ],
   "source": [
    "s = \"je suis une nouvelle valeur\"\n",
    "print(s)"
   ]
  },
  {
   "cell_type": "markdown",
   "metadata": {},
   "source": [
    "On voit que la nouvelle valeur peut même correspondre à un type différent de celui de la première variable. La conversion du type de variable est faite automatiquement."
   ]
  },
  {
   "cell_type": "markdown",
   "metadata": {},
   "source": [
    "### Typage des variables"
   ]
  },
  {
   "cell_type": "markdown",
   "metadata": {},
   "source": [
    "Chaque variable créée possède un certain type : "
   ]
  },
  {
   "cell_type": "code",
   "execution_count": 18,
   "metadata": {},
   "outputs": [
    {
     "name": "stdout",
     "output_type": "stream",
     "text": [
      "<class 'int'>\n",
      "<class 'float'>\n",
      "<class 'str'>\n",
      "<class 'str'>\n"
     ]
    }
   ],
   "source": [
    "print(type(n))\n",
    "print(type(pi))\n",
    "print(type(msg))\n",
    "print(type(s))"
   ]
  },
  {
   "cell_type": "markdown",
   "metadata": {},
   "source": [
    "Le type d'une variable est important car il détermine l'espace occupé dans la mémoire par la variable : un booléen est mémorisé sur un bit, un entier est usuellement mémoriser sur 32 bit. \n",
    "\n",
    "De plus, le type peut avoir diverses autres influences, par exemple une fonction peu avoir un effet différent selon le type d'élément sur lequel on l'applique : ainsi, appliquée à des entiers (\"int\") ou des nombre décimaux (\"float\"), l'addition \"+\" correspond à l'addition mathématique, mais appliquée à des chaînes de caractères, \"+\" effectue la concaténation des chaînes de caractères :"
   ]
  },
  {
   "cell_type": "code",
   "execution_count": 19,
   "metadata": {},
   "outputs": [
    {
     "name": "stdout",
     "output_type": "stream",
     "text": [
      "10.14159\n",
      "Quoi de neuf ? Rien de spécial\n"
     ]
    }
   ],
   "source": [
    "print(pi + n) # addition mathématique\n",
    "msg2 = \" Rien de spécial\"\n",
    "print(msg + msg2) # concaténation de chaines de caracteres"
   ]
  },
  {
   "cell_type": "markdown",
   "metadata": {},
   "source": [
    "Sous Python, il n’est pas nécessaire d’écrire des lignes de programme spécifiques pour définir le type des variables avant de pouvoir les utiliser. Il vous suffit en effet d’assigner une valeur à un nom de variable pour que celle-ci soit automatiquement créée avec le type qui correspond au mieux à la valeur fournie. Précédemment, par exemple, les variables **n**, **msg** et **pi** ont été créées automatiquement chacune avec un type différent (« nombre entier » pour n, « chaîne de caractères » pour msg, « nombre à virgule flottante » (ou « float », en anglais) pour pi). Il n'est pas nécessaire de la connaître, mais voici la [liste des types de base](https://fr.wikiversity.org/wiki/Python/Les_types_de_base) en python."
   ]
  },
  {
   "cell_type": "markdown",
   "metadata": {},
   "source": [
    "Ceci constitue une particularité intéressante de Python, qui le rattache à une famille particulière de langages où l’on trouve aussi par exemple *Lisp*, *Scheme*, et quelques autres. On dira à ce sujet que le typage des variables sous Python est un typage dynamique, par opposition au typage statique qui est de règle par exemple en *C++* ou en *Java*. Dans ces langages, il faut toujours – par des instructions distinctes – d’abord déclarer (définir) le nom et le type des variables, et ensuite seulement leur assigner un contenu, lequel doit bien entendu être compatible avec le type déclaré."
   ]
  },
  {
   "cell_type": "markdown",
   "metadata": {
    "collapsed": true
   },
   "source": [
    "# Conditions"
   ]
  },
  {
   "cell_type": "markdown",
   "metadata": {},
   "source": [
    "## Booléens"
   ]
  },
  {
   "cell_type": "markdown",
   "metadata": {
    "collapsed": true
   },
   "source": [
    "En Python, \"`<`\", \"`>`\" et \"`==`\" permettent de faire des comparaisons entre variables numériques. Les signes inférieur/supérieur ou égal sont `<=` / `>=`.\n",
    "\n",
    "\"`and`\" et \"`or`\" sont respectivement le \"et\" logique et le \"ou\" logique. Enfin \"`not`\" est l'opérateur de négation."
   ]
  },
  {
   "cell_type": "code",
   "execution_count": 20,
   "metadata": {},
   "outputs": [
    {
     "name": "stdout",
     "output_type": "stream",
     "text": [
      "False\n",
      "True\n",
      "True\n",
      "False\n",
      "False\n"
     ]
    }
   ],
   "source": [
    "p = (3 > 5)\n",
    "q = (len(\"qqch\") == 4) # \"len\" est une fonction de base qui retourne la longueur de la chaine de caractere\n",
    "print(p)\n",
    "print(q)\n",
    "print(not p)\n",
    "print(p and (q == \"qqch\"))\n",
    "print(p or (q == \"qqch\"))"
   ]
  },
  {
   "cell_type": "markdown",
   "metadata": {},
   "source": [
    "## Tests logiques"
   ]
  },
  {
   "cell_type": "markdown",
   "metadata": {},
   "source": [
    "Déterminer si `a` est plus petit que `b`, ou l'inverse."
   ]
  },
  {
   "cell_type": "code",
   "execution_count": 26,
   "metadata": {},
   "outputs": [
    {
     "name": "stdout",
     "output_type": "stream",
     "text": [
      "'b' est strictement inférieur à 'a'\n"
     ]
    }
   ],
   "source": [
    "a = 3\n",
    "b = 2\n",
    "\n",
    "if a < b:\n",
    "    print(\"'a' est strictement inférieur à 'b'\")\n",
    "elif a > b:\n",
    "    print(\"'b' est strictement inférieur à 'a'\")\n",
    "else:\n",
    "    print(\"'b' est égal à 'a'\")"
   ]
  },
  {
   "cell_type": "code",
   "execution_count": 27,
   "metadata": {},
   "outputs": [
    {
     "name": "stdout",
     "output_type": "stream",
     "text": [
      "'b' est strictement inférieur à 'a'\n"
     ]
    }
   ],
   "source": [
    "# une autre solution\n",
    "reponse = a < b\n",
    "\n",
    "if reponse : # !! inutile de tester (reponse == True)\n",
    "    print(\"'a' est strictement inférieur à 'b'\")\n",
    "elif not reponse :\n",
    "    print(\"'b' est strictement inférieur à 'a'\")\n",
    "else:\n",
    "    print(\"'b' est égal à 'a'\")"
   ]
  },
  {
   "cell_type": "markdown",
   "metadata": {},
   "source": [
    "## Importance de l'indentation"
   ]
  },
  {
   "cell_type": "markdown",
   "metadata": {},
   "source": [
    "En Python l'indentation est obligatoire car elle influence l'exécution du code. Le code suivant renvoie une erreur car il est mal indenté :"
   ]
  },
  {
   "cell_type": "code",
   "execution_count": 28,
   "metadata": {},
   "outputs": [
    {
     "ename": "IndentationError",
     "evalue": "expected an indented block (<ipython-input-28-20ed0754b3ae>, line 2)",
     "output_type": "error",
     "traceback": [
      "\u001b[0;36m  File \u001b[0;32m\"<ipython-input-28-20ed0754b3ae>\"\u001b[0;36m, line \u001b[0;32m2\u001b[0m\n\u001b[0;31m    print(\"'b' est strictement inférieur à 'a'\")\u001b[0m\n\u001b[0m        ^\u001b[0m\n\u001b[0;31mIndentationError\u001b[0m\u001b[0;31m:\u001b[0m expected an indented block\n"
     ]
    }
   ],
   "source": [
    "if b < a :\n",
    "print(\"'b' est strictement inférieur à 'a'\")"
   ]
  },
  {
   "cell_type": "markdown",
   "metadata": {},
   "source": [
    "La version correcte est :"
   ]
  },
  {
   "cell_type": "code",
   "execution_count": 29,
   "metadata": {},
   "outputs": [
    {
     "name": "stdout",
     "output_type": "stream",
     "text": [
      "'b' est strictement inférieur à 'a'\n"
     ]
    }
   ],
   "source": [
    "if b < a :\n",
    "    print(\"'b' est strictement inférieur à 'a'\")"
   ]
  },
  {
   "cell_type": "markdown",
   "metadata": {},
   "source": [
    "Pour éviter les problèmes, le plus simple est de systématiquement indenter son code avec 4 espaces (comme cela est fait ci-dessus)."
   ]
  },
  {
   "cell_type": "markdown",
   "metadata": {},
   "source": [
    "**Exercices** :\n",
    "\n",
    "  1. Compléter le programme suivant de sorte qu'il affiche \"2^n est strictement supérieur à 10^9\" si 2^n > 10^9, et \"2^n est inférieur ou égal à 10^9\" sinon.\n",
    "  2. Compléter le programme suivant de sorte qu'il échange les valeurs de a et b si a > b, et qu'il affiche, en cas d'échange des valeurs, afficher quelles sont les nouvelles valeurs de a et de b."
   ]
  },
  {
   "cell_type": "code",
   "execution_count": 30,
   "metadata": {
    "collapsed": true
   },
   "outputs": [],
   "source": [
    "# Exo 1.\n",
    "# En python l'opérateur puissance est \"**\"\n",
    "\n",
    "n = 32"
   ]
  },
  {
   "cell_type": "code",
   "execution_count": 31,
   "metadata": {
    "collapsed": true
   },
   "outputs": [],
   "source": [
    "# Exo 2.\n",
    "a = 6\n",
    "b = 4"
   ]
  },
  {
   "cell_type": "markdown",
   "metadata": {
    "collapsed": true
   },
   "source": [
    "# Boucles"
   ]
  },
  {
   "cell_type": "markdown",
   "metadata": {},
   "source": [
    "## La boucle *pour* (ou boucle *for*)"
   ]
  },
  {
   "cell_type": "markdown",
   "metadata": {
    "collapsed": true
   },
   "source": [
    "La boucle *for* permet d'effectuer une opération un nombre de fois prédéfini, et fournit un itérateur (\"a\" dans le code ci-dessous) qui permet de *numéroter* chaque *passage dans la boucle* . Voici un exemple de boucle *for* écrite en Python :"
   ]
  },
  {
   "cell_type": "code",
   "execution_count": 32,
   "metadata": {},
   "outputs": [
    {
     "name": "stdout",
     "output_type": "stream",
     "text": [
      "0\n",
      "1\n",
      "2\n",
      "3\n",
      "4\n",
      "5\n",
      "6\n"
     ]
    }
   ],
   "source": [
    "for a in range(7): # (n’oubliez pas le double point !)\n",
    "    print(a) # (n’oubliez pas l’indentation !)"
   ]
  },
  {
   "cell_type": "markdown",
   "metadata": {},
   "source": [
    "La fonction *range* est essentielle pour l'implémentation des boucles *for* en Python. Son utilisation est spécifique au cas des boucles *for*, et on l'utilise rarement dans d'autres contextes que celui-là. L'objet retourné par la fonction *range* possède un type dédié (le type *range*). En particulier, l'objet retourné par *range* n'est pas assimilable à un objet de type *list* (nous aborderons l'utilisation des listes dans la prochaine séance)."
   ]
  },
  {
   "cell_type": "code",
   "execution_count": 33,
   "metadata": {},
   "outputs": [
    {
     "name": "stdout",
     "output_type": "stream",
     "text": [
      "<class 'range'>\n"
     ]
    },
    {
     "data": {
      "text/plain": [
       "range(0, 10)"
      ]
     },
     "execution_count": 33,
     "metadata": {},
     "output_type": "execute_result"
    }
   ],
   "source": [
    "r = range(10)\n",
    "print(type(r))\n",
    "r"
   ]
  },
  {
   "cell_type": "markdown",
   "metadata": {},
   "source": [
    "Remarquez qu'en utilisant `range(7)` on parcours les entiers de 0 à 6 (soit les 7 premiers entiers). En Python, il faut donc se souvenir que les indices débutent à 0, et pas à 1. Ce n'est pas le cas dans tous les langages, par exemple dans le langage *R*, les indices débutent à 1."
   ]
  },
  {
   "cell_type": "markdown",
   "metadata": {},
   "source": [
    "Aussi, on peut commencer les itérations à un rang différent de 0 en utilisant `range(min, max)`:"
   ]
  },
  {
   "cell_type": "code",
   "execution_count": 34,
   "metadata": {},
   "outputs": [
    {
     "name": "stdout",
     "output_type": "stream",
     "text": [
      "3\n",
      "4\n",
      "5\n",
      "6\n",
      "7\n",
      "8\n",
      "9\n",
      "10\n",
      "11\n"
     ]
    }
   ],
   "source": [
    "for a in range(3, 12):\n",
    "    print(a)"
   ]
  },
  {
   "cell_type": "markdown",
   "metadata": {
    "collapsed": true
   },
   "source": [
    "## La boucle *tant que* (ou boucle *while*)"
   ]
  },
  {
   "cell_type": "markdown",
   "metadata": {},
   "source": [
    "La boucle *while* a synthaxe suivante :\n",
    "\n",
    "    while (condition):\n",
    "        <bloc d'instructions>\n",
    "     "
   ]
  },
  {
   "cell_type": "markdown",
   "metadata": {},
   "source": [
    "La boucle *while* indique à Python qu’il lui faut répéter continuellement le bloc d’instructions qui suit, tant que la condition est satisfaite. L'intérêt de la boucle *while* est de répéter un groupe d'opérations auquel on ne sait pas en amont combien de fois on souhaite faire appel, mais pour lequel on dispose d'une critère d'arrêt. (exemple : l'exercice 1 ci dessous)"
   ]
  },
  {
   "cell_type": "markdown",
   "metadata": {
    "collapsed": true
   },
   "source": [
    "La bouble *while* est plus générale que la boucle *for* dans le sens où l'on peut toujours remplacer une boucle *for* par une boucle *while* en introduisant un *compteur*. Par exemple, le code suivant produit la même sortie que celui de la boucle *for* ci-dessus."
   ]
  },
  {
   "cell_type": "code",
   "execution_count": 35,
   "metadata": {},
   "outputs": [
    {
     "name": "stdout",
     "output_type": "stream",
     "text": [
      "0\n",
      "1\n",
      "2\n",
      "3\n",
      "4\n",
      "5\n",
      "6\n"
     ]
    }
   ],
   "source": [
    "a = 0\n",
    "while (a < 7): # (n’oubliez pas le double point !)\n",
    "    print(a) # (n’oubliez pas l’indentation !)\n",
    "    a = a + 1"
   ]
  },
  {
   "cell_type": "markdown",
   "metadata": {
    "collapsed": true
   },
   "source": [
    "**Exercices** :\n",
    "\n",
    "Dans les exercices suivants, il est nécessaire d'utiliser la fonction `input()`, qui permet d'intéragir avec l'utilisateur en lui demandant de saisir une information. La fonction `input()` retourne alors la valeur saisie par l'utilisateur (voir l'exemple ci-dessous).\n",
    "\n",
    "\n",
    "<ol start=\"3\">\n",
    "  <li>Ecrire un programme qui demande à l'utilisateur de saisir une chaîne de caractères, puis qui compte le nombre de caractères de la chaîne, sans avoir recours à la fonction \"len\". (indice : si `s` est une chaîne de caractères, l'instruction `s[:-1]` renvoie la chaîne de caractère `s` privée de son dernier élément).</li> \n",
    "  <li>Afficher la table de multiplication de 27 jusqu'à n = 10.</li>\n",
    "  <li>Afficher les 20 premiers termes de la suite de Fibonacci qui est définie par : $u_0 = 0, u_1 = 1$ et $\\forall n \\ge 0,~ u_{n+2} = u_{n+1} + u_{n}$. Indiquer avec une étoile les lignes où $u_n$ est un multiple de 3.</li>\n",
    "  <li>Écrire un programme qui demande à l'utilisateur de saisir un nombre entier de secondes, puis qui convertit ce temps (en secondes) en nombre d’années, de jours, de minutes et de secondes (indice : utiliser l’opérateur division entière \"//\").</li>\n",
    "</ol>"
   ]
  },
  {
   "cell_type": "code",
   "execution_count": 36,
   "metadata": {},
   "outputs": [
    {
     "name": "stdout",
     "output_type": "stream",
     "text": [
      "Entrer un mot : nada\n",
      "le mot saisi est : nada\n"
     ]
    }
   ],
   "source": [
    "# utilisation de input()\n",
    "s = input(\"Entrer un mot : \")\n",
    "print(\"le mot saisi est : \",s, sep = \"\")\n",
    "# sep permet de spécifier le caractère de séparation, lorsque l'on veut afficher plusieurs éléments à la suite avec la fonction 'print'"
   ]
  },
  {
   "cell_type": "code",
   "execution_count": 37,
   "metadata": {},
   "outputs": [
    {
     "name": "stdout",
     "output_type": "stream",
     "text": [
      "\n"
     ]
    }
   ],
   "source": [
    "# Exo 3.\n",
    "mot = input()"
   ]
  },
  {
   "cell_type": "code",
   "execution_count": 38,
   "metadata": {
    "collapsed": true
   },
   "outputs": [],
   "source": [
    "# Exo 4."
   ]
  },
  {
   "cell_type": "code",
   "execution_count": 39,
   "metadata": {
    "collapsed": true
   },
   "outputs": [],
   "source": [
    "# Exo 5.\n",
    "u = 0\n",
    "v = 1"
   ]
  },
  {
   "cell_type": "code",
   "execution_count": 40,
   "metadata": {},
   "outputs": [
    {
     "name": "stdout",
     "output_type": "stream",
     "text": [
      "Entrer un nombre de secondes :1890909\n"
     ]
    }
   ],
   "source": [
    "# Exo 6.\n",
    "\n",
    "n = int(input(\"Entrer un nombre de secondes :\")) # les valeurs saisies avec \"input\" sont considérées de type \"str\""
   ]
  },
  {
   "cell_type": "code",
   "execution_count": null,
   "metadata": {
    "collapsed": true
   },
   "outputs": [],
   "source": []
  }
 ],
 "metadata": {
  "kernelspec": {
   "display_name": "Python 3",
   "language": "python",
   "name": "python3"
  },
  "language_info": {
   "codemirror_mode": {
    "name": "ipython",
    "version": 3
   },
   "file_extension": ".py",
   "mimetype": "text/x-python",
   "name": "python",
   "nbconvert_exporter": "python",
   "pygments_lexer": "ipython3",
   "version": "3.6.2"
  }
 },
 "nbformat": 4,
 "nbformat_minor": 2
}
