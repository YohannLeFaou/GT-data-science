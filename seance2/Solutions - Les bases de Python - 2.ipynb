{
 "cells": [
  {
   "cell_type": "code",
   "execution_count": 2,
   "metadata": {},
   "outputs": [
    {
     "name": "stdout",
     "output_type": "stream",
     "text": [
      "['Janvier', 31, 'Février', 28, 'Mars', 31, 'Avril', 30, 'Mai', 31, 'Juin', 30, 'Juillet', 31, 'Août', 31, 'Septembre', 30, 'Octobre', 31, 'Novembre', 30, 'Décembre', 31]\n"
     ]
    }
   ],
   "source": [
    "# Exo 1.\n",
    "\n",
    "t1 = [31, 28, 31, 30, 31, 30, 31, 31, 30, 31, 30, 31]\n",
    "t2 = ['Janvier', 'Février', 'Mars', 'Avril', 'Mai', 'Juin',\n",
    "'Juillet', 'Août', 'Septembre', 'Octobre', 'Novembre', 'Décembre']\n",
    "# --------------------------------------\n",
    "\n",
    "t3 = []\n",
    "for i in range(12):\n",
    "    t3.append(t2[i])\n",
    "    t3.append(t1[i])\n",
    "\n",
    "print(t3)"
   ]
  },
  {
   "cell_type": "code",
   "execution_count": 3,
   "metadata": {},
   "outputs": [
    {
     "name": "stdout",
     "output_type": "stream",
     "text": [
      "[2, 3, 5, 8, 12, 15, 32, 75]\n"
     ]
    }
   ],
   "source": [
    "# Exo 2.\n",
    "\n",
    "liste = [32, 5, 12, 8, 3, 75, 2, 15]\n",
    "# --------------------------------------\n",
    "\n",
    "liste_croissant = []\n",
    "while(len(liste) != 0):\n",
    "    x = min(liste)\n",
    "    liste.remove(x)\n",
    "    liste_croissant.append(x)\n",
    "\n",
    "print(liste_croissant)"
   ]
  },
  {
   "cell_type": "code",
   "execution_count": 4,
   "metadata": {},
   "outputs": [
    {
     "name": "stdout",
     "output_type": "stream",
     "text": [
      "{'c': 3, \"'\": 1, 'e': 3, 's': 3, 't': 1, ' ': 3, 'l': 1, 'v': 1, 'a': 2, 'n': 1, '!': 1}\n"
     ]
    }
   ],
   "source": [
    "# Exo 3.\n",
    "\n",
    "chaine = \"c'est les vacances !\"\n",
    "# ----------------------------------\n",
    "\n",
    "list(chaine)\n",
    "chaine_dict = dict()\n",
    "for i in range(len(chaine)):\n",
    "    if ( not(chaine[i] in chaine_dict.keys())):\n",
    "        chaine_dict[chaine[i]] = chaine.count(chaine[i])\n",
    "        \n",
    "print(chaine_dict)"
   ]
  },
  {
   "cell_type": "code",
   "execution_count": 2,
   "metadata": {},
   "outputs": [
    {
     "name": "stdout",
     "output_type": "stream",
     "text": [
      "24\n"
     ]
    }
   ],
   "source": [
    "# Exo 4.\n",
    "\n",
    "def factoriel(n):\n",
    "    if (n ==0):\n",
    "        return 1\n",
    "    else :\n",
    "        return n * factoriel(n-1)\n",
    "\n",
    "print(factoriel(4))"
   ]
  },
  {
   "cell_type": "code",
   "execution_count": null,
   "metadata": {
    "collapsed": true
   },
   "outputs": [],
   "source": [
    "# Exo 5.\n",
    "\n",
    "def quicksort(liste):\n",
    "    if len(liste) <= 1:\n",
    "        return liste\n",
    "    else:\n",
    "        indicePivot = len(liste)//2 - 1\n",
    "        pivot = liste[indicePivot]\n",
    "        del liste[indicePivot]\n",
    "        less = []\n",
    "        greater = []\n",
    "        for x in liste:\n",
    "            if x <= pivot:\n",
    "                less.append(x)\n",
    "            else:\n",
    "                greater.append(x)\n",
    "    return (quicksort(less) + [pivot] + quicksort(greater))\n",
    "\n",
    "import random\n",
    "liste_test = [random.randrange(100) for i in range(20)]\n",
    "\n",
    "print(liste_test)\n",
    "print(quicksort(liste_test))"
   ]
  },
  {
   "cell_type": "code",
   "execution_count": null,
   "metadata": {
    "collapsed": true
   },
   "outputs": [],
   "source": [
    "# Exo 6.\n",
    "\n",
    "def compter_chemins(n):\n",
    "    if (n <= 0):\n",
    "        return 0\n",
    "    if (n == 1):\n",
    "        return 1\n",
    "    elif (n == 2):\n",
    "        return 2\n",
    "    elif (n == 3):\n",
    "        return(4)\n",
    "    else :\n",
    "        return (compter_chemins(n-1) + compter_chemins(n-2) + compter_chemins(n-3))\n",
    "\n",
    "print(compter_chemins(10))"
   ]
  },
  {
   "cell_type": "code",
   "execution_count": null,
   "metadata": {
    "collapsed": true
   },
   "outputs": [],
   "source": [
    "# Exo 7.\n",
    "\n",
    "def afficher_parentheses(n_paires):\n",
    "    compteur_ouvrir = n_paires\n",
    "    compteur_fermer = 0\n",
    "    chaine_initiale = \"\"\n",
    "    ajouter_parenthese(chaine_initiale, \n",
    "                       n_paires = n_paires,\n",
    "                       compteur_ouvrir = compteur_ouvrir,\n",
    "                       compteur_fermer = compteur_fermer)\n",
    "\n",
    "def ajouter_parenthese(chaine_parenthese, n_paires, compteur_ouvrir, compteur_fermer):\n",
    "    if len(chaine_parenthese) == 2*n_paires :\n",
    "        print(chaine_parenthese)\n",
    "    else :\n",
    "        if (compteur_ouvrir > 0) :\n",
    "            ajouter_parenthese(chaine_parenthese + \"(\", \n",
    "                           n_paires = n_paires,\n",
    "                           compteur_ouvrir = compteur_ouvrir - 1,\n",
    "                           compteur_fermer = compteur_fermer + 1)\n",
    "        if (compteur_fermer > 0) :\n",
    "            ajouter_parenthese(chaine_parenthese + \")\",\n",
    "                               n_paires = n_paires,\n",
    "                               compteur_ouvrir = compteur_ouvrir,\n",
    "                               compteur_fermer = compteur_fermer - 1)\n",
    "\n",
    "afficher_parentheses(7)\n",
    "\n",
    "\n"
   ]
  },
  {
   "cell_type": "code",
   "execution_count": null,
   "metadata": {
    "collapsed": true
   },
   "outputs": [],
   "source": []
  },
  {
   "cell_type": "code",
   "execution_count": null,
   "metadata": {
    "collapsed": true
   },
   "outputs": [],
   "source": []
  },
  {
   "cell_type": "code",
   "execution_count": null,
   "metadata": {
    "collapsed": true
   },
   "outputs": [],
   "source": []
  }
 ],
 "metadata": {
  "kernelspec": {
   "display_name": "Python 3",
   "language": "python",
   "name": "python3"
  },
  "language_info": {
   "codemirror_mode": {
    "name": "ipython",
    "version": 3
   },
   "file_extension": ".py",
   "mimetype": "text/x-python",
   "name": "python",
   "nbconvert_exporter": "python",
   "pygments_lexer": "ipython3",
   "version": "3.6.2"
  }
 },
 "nbformat": 4,
 "nbformat_minor": 2
}
